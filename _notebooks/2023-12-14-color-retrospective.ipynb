{
 "cells": [
  {
   "cell_type": "markdown",
   "metadata": {},
   "source": [
    "---\n",
    "comments: true\n",
    "layout: post\n",
    "title: Color game retrospective\n",
    "description: our differrent features\n",
    "type: hacks \n",
    "courses: { compsci: {week: 5} }\n",
    "---"
   ]
  },
  {
   "cell_type": "markdown",
   "metadata": {},
   "source": [
    "## Issues I faced\n",
    "\n",
    "- I had a hard time figuring out how I wanted the game to be interactive, my intial idea was just to make a converter but after knowing that I had to make my feature educational I had a hard time coming up with a feature that wasnt just a quiz\n",
    "\n",
    "- I also had to change my plan from converting to binary to converting to hexadecimal but I still diplayed a table thta showed the conversion between all. \n",
    "\n",
    "- I also had a hard time communicating with my tem sometimes when some people were just really behind and it was hard to tell them what to do or get them on track when they didnt seem willing to. "
   ]
  },
  {
   "cell_type": "markdown",
   "metadata": {},
   "source": [
    "## Things I would change in the future\n",
    "\n",
    "- next time I would find a way to incorporate a slider and a color box that shows the gradual change as you move he slider so the user is able to get a better idea of what is actually happening\n",
    "\n",
    "- I would also work on my video better, I used mouse wiggle a lot to get my point across and highlight ertain things I am working on but I will spend more time editing in order to eliminate that \n",
    "\n",
    "- I also want to make the game more educational so maybe I can add a quiz aspect or a guessing game with the RGB to hexadecimal conversion at the end to test what the users have learned "
   ]
  }
 ],
 "metadata": {
  "language_info": {
   "name": "python"
  },
  "orig_nbformat": 4
 },
 "nbformat": 4,
 "nbformat_minor": 2
}
