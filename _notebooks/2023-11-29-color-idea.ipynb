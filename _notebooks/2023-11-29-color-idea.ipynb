{
 "cells": [
  {
   "cell_type": "markdown",
   "metadata": {},
   "source": [
    "---\n",
    "comments: true\n",
    "layout: post\n",
    "title: Binary Color Game Ideation\n",
    "description: Grab Calculator Code and place in IPYNB\n",
    "type: hacks\n",
    "courses: { compsci: {week: 1} }\n",
    "---"
   ]
  },
  {
   "cell_type": "markdown",
   "metadata": {},
   "source": [
    "- Randomize RGB value\n",
    "-  Convert RGB values to binary \n",
    "- display the binary values and RGB values to show what is going on in function \n",
    "- dislays the color that coresponds to the RGB value \n",
    "- user guesses the RGB value"
   ]
  },
  {
   "cell_type": "markdown",
   "metadata": {},
   "source": [
    "- generateRandomColor: Generates random binary values for red, green, and blue components and applies the color to the color box.\n",
    "- getRandomBinary: Generates a random 8-bit binary value.\n",
    "- binaryToDecimal: Converts a binary value to decimal.\n",
    "- checkColor: Compares the user's input with the generated color and displays the result.\n"
   ]
  },
  {
   "cell_type": "markdown",
   "metadata": {},
   "source": [
    "## Questions and concerns\n",
    "\n",
    "- I want to make it some sort of game but I do not know if people can actually gues RGB or binary values \n",
    "- find some other way to make it interactive "
   ]
  },
  {
   "cell_type": "markdown",
   "metadata": {},
   "source": [
    "<image src='https://media.discordapp.net/attachments/1086819477204766761/1179464640552509500/Screen20Shot202023-11-2620at209.png?ex=6579e10b&is=65676c0b&hm=9bd090fa67f2cc6575ca23717be864367b3c61769fb42377f61bf593245849cf&=&format=webp&quality=lossless&width=1656&height=1058'>"
   ]
  }
 ],
 "metadata": {
  "kernelspec": {
   "display_name": "Python 3",
   "language": "python",
   "name": "python3"
  },
  "language_info": {
   "codemirror_mode": {
    "name": "ipython",
    "version": 3
   },
   "file_extension": ".py",
   "mimetype": "text/x-python",
   "name": "python",
   "nbconvert_exporter": "python",
   "pygments_lexer": "ipython3",
   "version": "3.11.4"
  },
  "orig_nbformat": 4
 },
 "nbformat": 4,
 "nbformat_minor": 2
}
