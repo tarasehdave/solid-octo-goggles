{
 "cells": [
  {
   "cell_type": "markdown",
   "metadata": {},
   "source": [
    "---\n",
    "comments: true\n",
    "layout: post\n",
    "title: Color game binary ideation\n",
    "description: Grab Calculator Code and place in IPYNB\n",
    "type: hacks\n",
    "courses: { compsci: {week: 4} }\n",
    "---"
   ]
  },
  {
   "cell_type": "markdown",
   "metadata": {},
   "source": [
    "- Randomize RGB value\n",
    "-  Convert RGB values to binary \n",
    "- display the binary values and RGB values to show what is going on in function \n",
    "- dislays the color that coresponds to the RGB value \n",
    "- user guesses the RGB value"
   ]
  },
  {
   "cell_type": "markdown",
   "metadata": {},
   "source": [
    "- generateRandomColor: Generates random binary values for red, green, and blue components and applies the color to the color box.\n",
    "- getRandomBinary: Generates a random 8-bit binary value.\n",
    "- binaryToDecimal: Converts a binary value to decimal.\n",
    "- checkColor: Compares the user's input with the generated color and displays the result.\n"
   ]
  },
  {
   "cell_type": "markdown",
   "metadata": {},
   "source": [
    "## Questions and concerns\n",
    "\n",
    "- I want to make it some sort of game but I do not know if people can actually gues RGB or binary values \n",
    "- find some other way to make it interactive "
   ]
  },
  {
   "cell_type": "markdown",
   "metadata": {},
   "source": [
    "<image src=\">"
   ]
  }
 ],
 "metadata": {
  "language_info": {
   "name": "python"
  },
  "orig_nbformat": 4
 },
 "nbformat": 4,
 "nbformat_minor": 2
}
