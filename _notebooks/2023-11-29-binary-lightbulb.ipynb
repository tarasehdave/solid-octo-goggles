{
 "cells": [
  {
   "cell_type": "markdown",
   "metadata": {},
   "source": [
    "---\n",
    "comments: true\n",
    "layout: post\n",
    "title: Binary Conversion Lightbulb Game\n",
    "description: Grab Calculator Code and place in IPYNB\n",
    "type: hacks\n",
    "courses: { compsci: {week: 4} }\n",
    "---"
   ]
  },
  {
   "cell_type": "markdown",
   "metadata": {},
   "source": [
    "Binary Place Values:\n",
    "- 1 (2^0): Represents 2^0 = 1\n",
    "- 10 (2^1): Represents 2^1 = 2\n",
    "- 100 (2^2): Represents 2^2 = 4\n",
    "- 1000 (2^3): Represents 2^3 = 8\n",
    "- 10000 (2^4): Represents 2^4 = 16\n"
   ]
  },
  {
   "cell_type": "markdown",
   "metadata": {},
   "source": [
    "Binary Representation of Lightbulb States:\n",
    "- Single Lightbulb (2^0): The first lightbulb represents 2^0 (1 in decimal). It can be in one of two states: on (1) or off (0).\n",
    "- Second Lightbulb (2^1): The second lightbulb represents 2^1 (2 in decimal). It can be in one of two states: on (1) or off (0). The combination of the first and second lightbulbs can represent binary numbers 00, 01, 10, and 11, corresponding to decimal numbers 0, 1, 2, and 3.\n",
    "- Third Lightbulb (2^2): The third lightbulb represents 2^2 (4 in decimal). It can be in one of two states: on (1) or off (0). The combination of the first, second, and third lightbulbs can represent binary numbers 000, 001, 010, 011, 100, 101, 110, and 111, corresponding to decimal numbers 0 to 7.\n",
    "- and so on"
   ]
  },
  {
   "cell_type": "markdown",
   "metadata": {},
   "source": [
    "- If the binary code is 010, it means the first lightbulb (2^0) is off, the second lightbulb (2^1) is on, and the third lightbulb (2^2) is off. In decimal, this is 2.\n",
    "- If the binary code is 111, it means all three lightbulbs are on. In decimal, this is 7.\n",
    "- If the binary code is 000, it means all three lightbulbs are off. In decimal, this is 0."
   ]
  },
  {
   "cell_type": "markdown",
   "metadata": {},
   "source": [
    "##### This will be used to create a game in which the user with convert decimal and hexademical to binary using the lightbulbs as a means of units. If they get the conversion right and press the submit button they will advance until they reach 10 correct answers."
   ]
  },
  {
   "cell_type": "markdown",
   "metadata": {},
   "source": [
    "<image src=https://cdn.discordapp.com/attachments/600406936755634177/1179847309148827738/Binary20Math20with20Conversions.png?ex657b456f&is6568d06f&hmcb4526ee1f0fa09d9347cc8d24c720233da65e7c0844413e8deb0fec34c9c582&>"
   ]
  }
 ],
 "metadata": {
  "language_info": {
   "name": "python"
  },
  "orig_nbformat": 4
 },
 "nbformat": 4,
 "nbformat_minor": 2
}
