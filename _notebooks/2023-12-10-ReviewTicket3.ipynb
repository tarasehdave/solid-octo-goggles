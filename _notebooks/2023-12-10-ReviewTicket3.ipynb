{
 "cells": [
  {
   "cell_type": "markdown",
   "metadata": {},
   "source": [
    "---\n",
    "comments: true\n",
    "layout: post\n",
    "title: Review Ticket \n",
    "description: \n",
    "type: tangibles \n",
    "courses: { compsci: {week: 3} }\n",
    "---"
   ]
  },
  {
   "cell_type": "markdown",
   "metadata": {},
   "source": [
    "### Memory Game Review Ticket \n",
    "\n",
    "This code creates a memory card game using HTML, CSS, and JavaScript. The HTML structure defines the basic layout for the game, including the game board. CSS styles handle the appearance of the cards, their flipping animation, and layout. The JavaScript logic initializes the game by setting up card values, creating pairs, shuffling them, and dynamically generating card elements based on these values. \n",
    "\n",
    "The game logic manages the card flipping functionality: when cards are clicked, they flip to reveal their content (ASCII and binary representations of characters). The code ensures that only two cards can be flipped at a time. If the flipped cards match, they stay visible; otherwise, they flip back after a brief delay. The game continues until all pairs are matched, triggering an alert to congratulate the player. \n",
    "\n",
    "Overall, the code combines HTML for structure, CSS for styling, and JavaScript for interactivity to create a memory card game where players match pairs based on ASCII and binary representations.\n",
    "\n",
    "### Challenges  \n",
    "\n",
    "When writing this code, I faced several changes. \n",
    "    - I had not only worked with frontend before, the last project I did for N@TM, I only worked on backend so I asked Sharon and external sources for help.\n",
    "    - I had trouble finding out what game to make so I presented my project to Mr. Lopez and asked for feedback. That is when he told me to make it like a traditional memory game with matching pairs of ASCII and binary values\n",
    "    - After making this version, I was concerned about the learning aspect of it. So in my live review with Mr. Mortensen, I asked if I should keep both values on each card or split it up and then have the users do the math, to which he went with the second option. \n",
    "    - When I first wrote the code, there were certain bugs that would sometimes not allow the cards to flip if the user went too fast, etc. I put my code into ChatGPT and asked for some feedback to fix it. "
   ]
  }
 ],
 "metadata": {
  "language_info": {
   "name": "python"
  },
  "orig_nbformat": 4
 },
 "nbformat": 4,
 "nbformat_minor": 2
}
