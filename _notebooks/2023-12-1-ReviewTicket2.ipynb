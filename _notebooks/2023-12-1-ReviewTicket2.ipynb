{
 "cells": [
  {
   "cell_type": "markdown",
   "metadata": {},
   "source": [
    "---\n",
    "comments: true\n",
    "layout: post\n",
    "title: Review Ticket \n",
    "description: \n",
    "type: tangibles \n",
    "courses: { compsci: {week: 2} }\n",
    "---"
   ]
  },
  {
   "cell_type": "markdown",
   "metadata": {},
   "source": [
    "### Memory Game Review Ticket \n",
    "\n",
    "I used the Fisher-Yates Algorithm to randomize the inputted values. However, there are certain problems that I need to fix by next week. \n",
    "\n",
    "    1. Hardcoded Values: I put the letters A-F in the code to output it's corresponding binary values through ASCII. However, the letters should be randomized each time from A-Z and a-z.\n",
    "    2. Background: The background is simple as of right now, but it should have some design to it regarding the theme, space. \n",
    "    3. Levels: Right now there is only one level with no timer. By the end there should be several with it's respected timers. \n",
    "\n",
    "Besides that, I am satisfied with what I have so far. The cards are actively working and stay flipped once matched with it's other, as well as turning green, indicating that they were matched. The basic feature is there, converting letters to ASCII to binary, just not the extra designs for theme and timers. "
   ]
  },
  {
   "cell_type": "markdown",
   "metadata": {},
   "source": [
    "### Review Ticket Color Game"
   ]
  },
  {
   "cell_type": "markdown",
   "metadata": {},
   "source": [
    "### Review Ticket Lightbulb Conversion\n",
    "\n",
    "I have watched YouTube videos and used ChatGPT as sources to better understand what I need to code for the conversion game. I will need to learn how to incorporate an interface that asks questions to the user and lets the user change the lightbulb system in order to submit an answer for the conversion. I will also need to improve the aesthetic aspect of the game, relating it to our theme of space, while also directly incorporating my own unique style onto it. Mr. Lopez recommended that we add ASCII Art to improve our aesthetic design which I am highly considering. For now, the game is very barebones and will need to be significantly worked upon."
   ]
  },
  {
   "cell_type": "markdown",
   "metadata": {},
   "source": [
    "### Review Ticket Logic Shift "
   ]
  }
 ],
 "metadata": {
  "language_info": {
   "name": "python"
  },
  "orig_nbformat": 4
 },
 "nbformat": 4,
 "nbformat_minor": 2
}
