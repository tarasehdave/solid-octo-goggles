{
 "cells": [
  {
   "cell_type": "markdown",
   "metadata": {},
   "source": [
    " ---\n",
    "comments: true\n",
    "layout: post\n",
    "title: Binary Color Game Demostration\n",
    "type: hacks\n",
    "courses: { compsci: {week: 2} }\n",
    "---"
   ]
  },
  {
   "cell_type": "code",
   "execution_count": null,
   "metadata": {},
   "outputs": [],
   "source": [
    "<!DOCTYPE html>\n",
    "<html lang=\"en\">\n",
    "<head>\n",
    "  <meta charset=\"UTF-8\">\n",
    "  <meta name=\"viewport\" content=\"width=device-width, initial-scale=1.0\">\n",
    "  <title>RGB to Binary Color Generator</title>\n",
    "  <style>\n",
    "    #colorBox {\n",
    "      width: 100px;\n",
    "      height: 100px;\n",
    "      border: 1px solid #000;\n",
    "    }\n",
    "  </style>\n",
    "</head>\n",
    "<body>\n",
    "  <h1>RGB to Binary Color Generator</h1>\n",
    "  <label for=\"red\">Red:</label>\n",
    "  <input type=\"number\" id=\"red\" min=\"0\" max=\"255\" value=\"0\">\n",
    "  <label for=\"green\">Green:</label>\n",
    "  <input type=\"number\" id=\"green\" min=\"0\" max=\"255\" value=\"0\">\n",
    "  <label for=\"blue\">Blue:</label>\n",
    "  <input type=\"number\" id=\"blue\" min=\"0\" max=\"255\" value=\"0\">\n",
    "  <button onclick=\"convertRGB()\">Convert to Binary</button>\n",
    "  <div id=\"colorBox\"></div>\n",
    "  <script>\n",
    "    function convertRGB() {\n",
    "      // Get RGB values\n",
    "      var red = document.getElementById(\"red\").value;\n",
    "      var green = document.getElementById(\"green\").value;\n",
    "      var blue = document.getElementById(\"blue\").value;\n",
    "      // Convert RGB to binary\n",
    "      var redBinary = decToBinary(red);\n",
    "      var greenBinary = decToBinary(green);\n",
    "      var blueBinary = decToBinary(blue);\n",
    "      // Display binary values\n",
    "      alert(\"Red: \" + redBinary + \"\\nGreen: \" + greenBinary + \"\\nBlue: \" + blueBinary);\n",
    "      // Display color in color box\n",
    "      var colorBox = document.getElementById(\"colorBox\");\n",
    "      colorBox.style.backgroundColor = \"rgb(\" + red + \",\" + green + \",\" + blue + \")\";\n",
    "    }\n",
    "    function decToBinary(decimal) {\n",
    "      return (decimal >>> 0).toString(2);\n",
    "    }\n",
    "  </script>\n",
    "</body>\n",
    "</html>"
   ]
  },
  {
   "cell_type": "code",
   "execution_count": null,
   "metadata": {},
   "outputs": [],
   "source": []
  }
 ],
 "metadata": {
  "language_info": {
   "name": "python"
  },
  "orig_nbformat": 4
 },
 "nbformat": 4,
 "nbformat_minor": 2
}
