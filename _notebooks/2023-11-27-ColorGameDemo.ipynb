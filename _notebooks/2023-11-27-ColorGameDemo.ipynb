{
 "cells": [
  {
   "cell_type": "markdown",
   "metadata": {},
   "source": [
    "---\n",
    "comments: true\n",
    "layout: post\n",
    "title: Binary Color Game Demonstration \n",
    "description: \n",
    "type: hacks\n",
    "courses: { compsci: {week: 2} }\n",
    "---"
   ]
  },
  {
   "cell_type": "code",
   "execution_count": null,
   "metadata": {
    "vscode": {
     "languageId": "html"
    }
   },
   "outputs": [],
   "source": [
    "<!DOCTYPE html>\n",
    "<html lang=\"en\">\n",
    "<head>\n",
    "    <meta charset=\"UTF-8\">\n",
    "    <meta name=\"viewport\" content=\"width=device-width, initial-scale=1.0\">\n",
    "    <title>RGB to Binary Converter</title>\n",
    "    <style>\n",
    "        #colorBox {\n",
    "            width: 100px;\n",
    "            height: 100px;\n",
    "            border: 1px solid #d62d2d;\n",
    "            margin-top: 20px;\n",
    "        }\n",
    "    </style>\n",
    "</head>\n",
    "<body>\n",
    "\n",
    "<button onclick=\"convertRGBtoBinary()\">Convert RGB to Binary</button>\n",
    "<div id=\"colorBox\"></div>\n",
    "\n",
    "<script>\n",
    "    function convertRGBtoBinary() {\n",
    "        // Generate random RGB values\n",
    "        const red = Math.floor(Math.random() * 256);\n",
    "        const green = Math.floor(Math.random() * 256);\n",
    "        const blue = Math.floor(Math.random() * 256);\n",
    "\n",
    "        // Convert RGB to binary\n",
    "        const binaryRed = red.toString(2).padStart(8, '0');\n",
    "        const binaryGreen = green.toString(2).padStart(8, '0');\n",
    "        const binaryBlue = blue.toString(2).padStart(8, '0');\n",
    "\n",
    "        // Concatenate binary values\n",
    "        const binaryRepresentation = binaryRed + binaryGreen + binaryBlue;\n",
    "\n",
    "        // Display binary representation in the color box\n",
    "        displayBinaryInBox(binaryRepresentation);\n",
    "    }\n",
    "\n",
    "    function displayBinaryInBox(binaryRepresentation) {\n",
    "        const colorBox = document.getElementById('colorBox');\n",
    "        colorBox.style.backgroundColor = `#${binaryRepresentation}`;\n",
    "    }\n",
    "</script>\n",
    "\n",
    "</body>\n",
    "</html>\n"
   ]
  },
  {
   "cell_type": "markdown",
   "metadata": {},
   "source": [
    "## Code explained\n",
    "\n",
    "- The first part is the basic structure of an HTML document, starts off with a head section and the creates a title also creates a background image for the page.\n",
    "\n",
    "-  The coor box id sets the width and the color of the border of the box \n",
    "\n",
    "### Body Content\n",
    "\n",
    "- Create the Cobvert RGB to Binary button that the users can click, the functions starts when the button is clicked \n",
    "\n",
    "- The rest is JS cde\n",
    "\n",
    "- Defines the function: convertRGBtoBinary\n",
    "    - Generates random values red, green, blue components\n",
    "    - then converts each component to an 8-bit binary representation\n",
    "        - 'toString(2). padStart(8, '0')\n",
    "        -  then they are concatenated to form a 24-bit binary representation which sets the background color of the 'colorBox'\n",
    "\n",
    "\n",
    "- The random color is achieved by the Math.Random which generates a random number for the RGB value between 0 and 255"
   ]
  },
  {
   "cell_type": "markdown",
   "metadata": {},
   "source": []
  }
 ],
 "metadata": {
  "language_info": {
   "name": "python"
  },
  "orig_nbformat": 4
 },
 "nbformat": 4,
 "nbformat_minor": 2
}
