{
 "cells": [
  {
   "cell_type": "markdown",
   "metadata": {},
   "source": [
    "---\n",
    "comments: true\n",
    "layout: post\n",
    "title: Review Ticket \n",
    "description: \n",
    "type: tangibles \n",
    "courses: { compsci: {week: 1} }\n",
    "---"
   ]
  },
  {
   "cell_type": "markdown",
   "metadata": {},
   "source": [
    "### Memory Game Review Ticket \n",
    "\n",
    "I went through several versions of a memory game before landing on this specific style. After getting feedback from my peers and Mr. Lopez, I landed on the traditional style of having pairs of cards in which the user has to find the corresponding one. My plan for next week is to start coding. I researched and found the Fisher-Yates algorithm, which shuffles a finite sequence. Using that, I can mix the cards up.  \n"
   ]
  },
  {
   "cell_type": "markdown",
   "metadata": {},
   "source": [
    "### Review Ticket Color Game"
   ]
  },
  {
   "cell_type": "markdown",
   "metadata": {},
   "source": [
    "### Review Ticket Lightbulb Conversion\n",
    "\n",
    "I am working on the idea of using the lightbulbs as a means of units to convert the decimal and hexadecimal that will be provided to the user in order to progress in a game which will be a sequence of 10 questions that the user must get right. Mr. Lopez gave me the idea to include hexadecimal to test the user because it will add more challenge and more depth to my coding. Next week, I plan on adding more interaction for the user to answer each questions and I hope to add a random number generator that will pull decimal and hexademical numbers for the user to convert to binary."
   ]
  },
  {
   "cell_type": "markdown",
   "metadata": {},
   "source": [
    "### Review Ticket Logic Shift "
   ]
  }
 ],
 "metadata": {
  "language_info": {
   "name": "python"
  },
  "orig_nbformat": 4
 },
 "nbformat": 4,
 "nbformat_minor": 2
}
