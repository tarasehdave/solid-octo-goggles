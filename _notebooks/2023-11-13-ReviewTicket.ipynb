{
 "cells": [
  {
   "cell_type": "markdown",
   "metadata": {},
   "source": [
    "---\n",
    "comments: true\n",
    "layout: post\n",
    "title: Review Ticket \n",
    "description: \n",
    "type: tangibles \n",
    "courses: { compsci: {week: 1} }\n",
    "---"
   ]
  },
  {
   "cell_type": "markdown",
   "metadata": {},
   "source": [
    "### Memory Game Review Ticket \n",
    "\n",
    "I went through several versions of a memory game before landing on this specific style. After getting feedback from my peers and Mr. Lopez, I landed on the traditional style of having pairs of cards in which the user has to find the corresponding one. My plan for next week is to start coding. I researched and found the Fisher-Yates algorithm, which shuffles a finite sequence. Using that, I can mix the cards up. \n"
   ]
  },
  {
   "cell_type": "markdown",
   "metadata": {},
   "source": [
    "### Review Ticket Color Game"
   ]
  },
  {
   "cell_type": "markdown",
   "metadata": {},
   "source": [
    "### Review Ticket Lightbulb Conversion"
   ]
  },
  {
   "cell_type": "markdown",
   "metadata": {},
   "source": [
    "### Review Ticket Logic Shift "
   ]
  }
 ],
 "metadata": {
  "language_info": {
   "name": "python"
  },
  "orig_nbformat": 4
 },
 "nbformat": 4,
 "nbformat_minor": 2
}
