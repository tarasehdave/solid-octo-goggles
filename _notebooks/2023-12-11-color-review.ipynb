{
 "cells": [
  {
   "cell_type": "markdown",
   "metadata": {},
   "source": [
    "---\n",
    "comments: true\n",
    "layout: post\n",
    "title: Binary logic review ticket\n",
    "description: our differrent features\n",
    "type: hacks \n",
    "courses: { compsci: {week: 5} }\n",
    "---"
   ]
  },
  {
   "cell_type": "markdown",
   "metadata": {},
   "source": [
    "### Memory Game Review Ticket\n",
    "This code creates a memory card game using HTML, CSS, and JavaScript. The HTML structure defines the basic layout for the game, including the game board. CSS styles handle the appearance of the cards, their flipping animation, and layout. The JavaScript logic initializes the game by setting up card values, creating pairs, shuffling them, and dynamically generating card elements based on these values.\n",
    "The game logic manages the card flipping functionality: when cards are clicked, they flip to reveal their content (ASCII and binary representations of characters). The code ensures that only two cards can be flipped at a time. If the flipped cards match, they stay visible; otherwise, they flip back after a brief delay. The game continues until all pairs are matched, triggering an alert to congratulate the player.\n",
    "Overall, the code combines HTML for structure, CSS for styling, and JavaScript for interactivity to create a memory card game where players match pairs based on ASCII and binary representations."
   ]
  },
  {
   "cell_type": "markdown",
   "metadata": {},
   "source": [
    "### Binary shift\n",
    "\n",
    "- AMEER'S REVIEW TICKET:\n",
    "HTML: Sets up the structure of the simulator with input fields, buttons, and display areas for outputs and feedback.\n",
    "CSS: Provides styling to make the interface user-friendly and visually appealing. It includes styles for buttons, inputs, and feedback messages.\n",
    "JavaScript: Contains the logic for validating binary input, performing shift operations, updating the outputs, and providing feedback. It enhances the educational aspect by explaining the effects of each operation.\n",
    "Educational Aspect:\n",
    "The simulator is designed to teach users about binary numbers and how shift operations work.\n",
    "After each operation, the simulator displays the new binary and its decimal equivalent, along with an explanation of what the operation did.\n",
    "This hands-on approach helps users understand the practical implications of binary shift operations, commonly used in computer science and digital electronics.\n",
    "Retrospective Analysis:\n",
    "Solidities:\n",
    "Interactive and user-friendly interface.\n",
    "Immediate feedback and explanations enhance understanding.\n",
    "Areas for Improvement:Visual Representation: Incorporating a visual representation of bits (e.g., using graphical elements like arrows or animated bits) could make the concept more tangible.\n",
    "Progressive Difficulty: Introduce levels or stages of complexity, starting with basic concepts and gradually introducing more advanced topics in binary operations.\n",
    "Quiz/Challenge Mode: Implementing a quiz or challenge mode where users can test their understanding of binary shifts in various scenarios."
   ]
  },
  {
   "cell_type": "markdown",
   "metadata": {},
   "source": [
    "# Color game \n",
    "\n",
    "-  A RGB to hexadecimal converter that allows you to convert and draw with the color you created."
   ]
  },
  {
   "cell_type": "markdown",
   "metadata": {},
   "source": [
    "### Binary conversion game \n",
    "\n",
    "- # Summary\n",
    "My code is of a game focused on binary-to-decimal number conversion. The HTML document incorporates Jekyll front matter for metadata, such as the layout, title, and courses. The body of the HTML contains game-related content, including instructions, input fields, buttons, and visual representations. The CSS styles define the presentation of various elements on the page, such as fonts, colors, and layout. The JavaScript portion of the code manages the game logic, including the generation of a random decimal number between 0 and 255, the conversion of this number to binary, and the subsequent display of the binary representation to the user. Users can input their decimal guesses, and the game checks the correctness, displaying appropriate messages and updating visual elements accordingly. The script also handles user interactions with individual bits, allowing them to add or subtract from the displayed binary number, with corresponding updates to decimal and hexadecimal representations. Additionally, the code includes functionality for reloading the page and displaying instructions through a modal. Overall, the code creates an interactive and visually engaging learning experience for binary-to-decimal conversion.\n",
    "\n",
    "\n",
    "\n",
    "\n",
    "\n",
    "10:38\n",
    "# Retrospective\n",
    "If I had more time, I would have increased the aesthetic aspect of my feature. I wanted to incorporate a mechanism that could help the user tally the amount of right and wrong answers they had, and I should have designed it so that the game would generate a new binary number automatically after the user entered a number. I would also have liked to increase the user interaction and feedback, possibly highlighting if they got the answer right or wrong with colors."
   ]
  }
 ],
 "metadata": {
  "language_info": {
   "name": "python"
  },
  "orig_nbformat": 4
 },
 "nbformat": 4,
 "nbformat_minor": 2
}
