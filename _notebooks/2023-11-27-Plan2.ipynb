{
 "cells": [
  {
   "cell_type": "markdown",
   "metadata": {},
   "source": [
    "---\n",
    "comments: true\n",
    "layout: post\n",
    "title: Plan\n",
    "description: \n",
    "type: plans \n",
    "courses: { compsci: {week: 2} }\n",
    "---"
   ]
  },
  {
   "cell_type": "markdown",
   "metadata": {},
   "source": [
    "### Memory Game Plan\n",
    "\n",
    "After planning the game, this week I want to code. I will use the Fisher-Yates Algorithm to randomize the values hardcoded. My main goal is to get the basic feature (conversion from letters to ASCII to binary) this week and focus on the minor details and decorations (theme) next week.\n"
   ]
  },
  {
   "cell_type": "markdown",
   "metadata": {},
   "source": [
    "### Binary Conversion Game Plan\n",
    "\n",
    "I want to incorporate the two pages of the lightbulb demonstration with the binary guessing game. This will allow the user to understand binary conversion if they didn't have a previous understanding of it."
   ]
  },
  {
   "cell_type": "markdown",
   "metadata": {},
   "source": [
    "# Color game plan\n",
    "\n",
    "- I want to icorporate olors to make a fun game where users are able to learn about the conversion between RGB and binary which are two different types of binary. I am also planning on making the game visual and interactive using a slider"
   ]
  }
 ],
 "metadata": {
  "language_info": {
   "name": "python"
  },
  "orig_nbformat": 4
 },
 "nbformat": 4,
 "nbformat_minor": 2
}
