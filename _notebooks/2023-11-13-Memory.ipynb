{
 "cells": [
  {
   "cell_type": "markdown",
   "metadata": {},
   "source": [
    "---\n",
    "comments: true\n",
    "layout: post\n",
    "title: Binary Memory Game Ideation\n",
    "description: \n",
    "type: hacks\n",
    "courses: { compsci: {week: 1} }\n",
    "---"
   ]
  },
  {
   "cell_type": "markdown",
   "metadata": {},
   "source": [
    "### Binary Memory Quiz Ideas \n",
    "\n",
    "    - Must include real binary abstractions (ie. ASCII, unicode, images, logic gates)\n",
    "\n",
    "#### General Idea \n",
    "\n",
    "For this project, we divided up into four different features- 2 from the list and 2 external ones. Sharon and I are doing external features and Ameer and Peyton are doing ones listed.\n",
    "\n",
    "    Tara - Binary Memory Quiz\n",
    "    Sharon - Binary Math Quiz (Logic gates, XOR)\n",
    "    Peyton - UI Concept/Design\n",
    "    Ameer - Binary Logic of Shift \n",
    "\n",
    "We are coming up with a general theme to \"connect\" each feature without compromising the work. Ideas like space, beach, mountains, are potential themes that will be the background for our features. They will be displayed on one website and \"link\" to each other. \n",
    "\n",
    "### Aspects of Features \n",
    "\n",
    "#### ASCII\n",
    "\n",
    "    - ASCII are drawings made from the American Standard Code for Information Interchange. Such as :-) (smiley face)\n",
    "    - For the memory game aspect, we can code a card game that displays different drawings and turns around, then displays a mixed up order of them asking the user to click on the cards to match \n",
    "\n",
    "#### Unicode \n",
    "\n",
    "    - Unicode is a computing standard that aims to provide a unique number for every character, symbol, and glyph across all writing systems and languages used worldwide \n",
    "\n",
    "### Images \n",
    "\n",
    "    - Images will be used to add visuals to the player.  \n",
    "\n",
    "\n",
    "  \n"
   ]
  },
  {
   "cell_type": "markdown",
   "metadata": {},
   "source": [
    "### Binary Memory Quiz Final\n",
    "\n",
    "The \"theme\" or point of this feature is to save the astronauts from being trapped in space. If the user is able to figure out a code, the astronauts can input it into their rocketship to return them back to Earth safely. The code will be deciphered through a memory game in which the user is shown five pairs of numbers and their conversion from ASCII to binary numbers (ie. one pair could be 2 and 01). They will be shown the values of all ten cards for a limited amount of time before they are all turned over and have to pick the matching pairs, hence the memory. There will be timer for users to match the five pairs.\n",
    "\n",
    "#### ASCII \n",
    "\n",
    "For my feature, I will be using ASCII characters to help convert to binary. As the larger the number the longer the binary number, I will most likely have a difficulty range where users can choose how hard the game can be. For example, one range can only consist of numbers from 1-10. So binary form from 0-1010. \n",
    "\n",
    "#### Theme\n",
    "\n",
    "The theme is space. My game will have the purpose of saving astronauts from the moon as the user tries to unscramble the \"code\" to start the spaceship to return back to Earth. If the user gets it correct, they will be asked to attempt to save astronauts from other locations (ie. planets farther away from Earth) that will use a more difficult time. Moon, for example, gives the user 5 minutes to solve, whereas Saturn could be 2:30. Here is a list of the levels of difficulty based off of how far the celestial body is from Earth. \n",
    "\n",
    "    - 5:00 **The Moon**: Earth's natural satellite\n",
    "    - 4:30 **Mercury**: The closest planet to Earth on average\n",
    "    - 4:00 **Venus**: Next closest planet to Earth after Mercury\n",
    "    - 3:30 **Mars**: Following Venus in proximity to Earth\n",
    "    - 3:00 **Jupiter**: The fifth planet from the Sun but can come relatively close to Earth during certain points in its orbit\n",
    "    - 2:30 **Saturn**: The sixth planet from the Sun but also can be observed from Earth at various points in its orbit\n",
    "    - 2:00 **Uranus**: Considerably farther away from Earth compared to the previous planets\n",
    "    - 1:30. **Neptune**: The farthest planet from Earth in our solar system\n",
    "\n",
    "\n",
    "#### Images \n",
    "\n",
    "Images will be utilized through visuals. If the user selects the correct binary number, the user will see a \"Congratulations! Play again to save astronauts from a farther celestial body!\" for saving the astronauts. If they failed, the user will see a \"So close! Try again!\" with the same options. "
   ]
  },
  {
   "cell_type": "markdown",
   "metadata": {},
   "source": [
    "### Fisher-Yates Algorithm \n",
    "\n",
    "Certainly! The Fisher-Yates shuffle algorithm, also known as the Knuth shuffle, is used to randomly shuffle the elements of an array. It's an efficient and unbiased algorithm for generating permutations of a finite sequence.\n",
    "\n",
    "Here are some key points about the Fisher-Yates shuffle algorithm:\n",
    "\n",
    "1. Algorithm Overview: The Fisher-Yates shuffle operates by iterating through an array from the end to the beginning, swapping each element with a randomly selected element that comes before it (or with itself).\n",
    "\n",
    "2. In-Place Shuffle: It shuffles elements in place within the array without requiring additional space, making it memory efficient.\n",
    "\n",
    "3. Equal Probability: The algorithm ensures that each element in the array has an equal probability of being placed at any position in the shuffled array, providing an unbiased shuffle.\n",
    "\n",
    "4. Implementation (in pseudocode):\n",
    "\n",
    "    ```plaintext\n",
    "    for i from n - 1 down to 1 do:\n",
    "        j = random integer such that 0 ≤ j ≤ i\n",
    "        swap array[i] with array[j]\n",
    "    ```\n",
    "\n",
    "    - `n` represents the number of elements in the array.\n",
    "    - The algorithm selects a random index `j` between `0` and `i` (inclusive) and swaps the elements at positions `i` and `j`.\n",
    "\n",
    "5. Efficiency: The time complexity of the Fisher-Yates shuffle is O(n) because it iterates through the array once, performing a constant-time swap operation at each step.\n",
    "\n",
    "6. Applications: This algorithm is widely used for generating random permutations, shuffling playlists, card games, cryptographic applications, and in various randomized algorithms.\n",
    "\n",
    "7. Pitfalls: It's important to use a reliable source of randomness for the selection of indices to ensure a truly random shuffle. Additionally, ensure that the random number generator used is properly seeded to avoid predictable shuffling.\n",
    "\n",
    "Implementing the Fisher-Yates shuffle correctly guarantees a fair and unbiased random reordering of elements within an array, making it a popular choice for shuffling algorithms in computer science and programming applications."
   ]
  }
 ],
 "metadata": {
  "kernelspec": {
   "display_name": "Python 3",
   "language": "python",
   "name": "python3"
  },
  "language_info": {
   "codemirror_mode": {
    "name": "ipython",
    "version": 3
   },
   "file_extension": ".py",
   "mimetype": "text/x-python",
   "name": "python",
   "nbconvert_exporter": "python",
   "pygments_lexer": "ipython3",
   "version": "3.11.6"
  }
 },
 "nbformat": 4,
 "nbformat_minor": 2
}
